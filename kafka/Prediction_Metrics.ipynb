{
 "cells": [
  {
   "cell_type": "markdown",
   "metadata": {},
   "source": [
    "### Metricas modelo Random Forests"
   ]
  },
  {
   "cell_type": "code",
   "execution_count": 7,
   "metadata": {},
   "outputs": [],
   "source": [
    "import seaborn as sns\n",
    "import matplotlib.pyplot as plt\n",
    "from sklearn.metrics import mean_squared_error, mean_absolute_error, r2_score"
   ]
  },
  {
   "cell_type": "code",
   "execution_count": 8,
   "metadata": {},
   "outputs": [],
   "source": [
    "from db_connection import read_data"
   ]
  },
  {
   "cell_type": "code",
   "execution_count": 9,
   "metadata": {},
   "outputs": [],
   "source": [
    "df = read_data()"
   ]
  },
  {
   "cell_type": "code",
   "execution_count": 10,
   "metadata": {},
   "outputs": [
    {
     "data": {
      "text/html": [
       "<div>\n",
       "<style scoped>\n",
       "    .dataframe tbody tr th:only-of-type {\n",
       "        vertical-align: middle;\n",
       "    }\n",
       "\n",
       "    .dataframe tbody tr th {\n",
       "        vertical-align: top;\n",
       "    }\n",
       "\n",
       "    .dataframe thead th {\n",
       "        text-align: right;\n",
       "    }\n",
       "</style>\n",
       "<table border=\"1\" class=\"dataframe\">\n",
       "  <thead>\n",
       "    <tr style=\"text-align: right;\">\n",
       "      <th></th>\n",
       "      <th>id</th>\n",
       "      <th>Economy_GDP_per_Capita</th>\n",
       "      <th>Social_Support</th>\n",
       "      <th>Health_Life_Expectancy</th>\n",
       "      <th>Freedom</th>\n",
       "      <th>Corruption</th>\n",
       "      <th>Generosity</th>\n",
       "      <th>Happiness_Score</th>\n",
       "      <th>Predicted_Happiness_Score</th>\n",
       "    </tr>\n",
       "  </thead>\n",
       "  <tbody>\n",
       "    <tr>\n",
       "      <th>0</th>\n",
       "      <td>1</td>\n",
       "      <td>0.964434</td>\n",
       "      <td>1.098471</td>\n",
       "      <td>0.338612</td>\n",
       "      <td>0.520304</td>\n",
       "      <td>0.093147</td>\n",
       "      <td>0.077134</td>\n",
       "      <td>4.574</td>\n",
       "      <td>4.32305</td>\n",
       "    </tr>\n",
       "    <tr>\n",
       "      <th>1</th>\n",
       "      <td>2</td>\n",
       "      <td>1.398000</td>\n",
       "      <td>1.471000</td>\n",
       "      <td>0.819000</td>\n",
       "      <td>0.547000</td>\n",
       "      <td>0.133000</td>\n",
       "      <td>0.291000</td>\n",
       "      <td>6.886</td>\n",
       "      <td>6.93342</td>\n",
       "    </tr>\n",
       "    <tr>\n",
       "      <th>2</th>\n",
       "      <td>3</td>\n",
       "      <td>0.319820</td>\n",
       "      <td>0.302850</td>\n",
       "      <td>0.303350</td>\n",
       "      <td>0.234140</td>\n",
       "      <td>0.097190</td>\n",
       "      <td>0.365100</td>\n",
       "      <td>3.575</td>\n",
       "      <td>3.83327</td>\n",
       "    </tr>\n",
       "    <tr>\n",
       "      <th>3</th>\n",
       "      <td>4</td>\n",
       "      <td>0.981240</td>\n",
       "      <td>1.232870</td>\n",
       "      <td>0.697020</td>\n",
       "      <td>0.490490</td>\n",
       "      <td>0.175210</td>\n",
       "      <td>0.145740</td>\n",
       "      <td>6.983</td>\n",
       "      <td>5.88701</td>\n",
       "    </tr>\n",
       "    <tr>\n",
       "      <th>4</th>\n",
       "      <td>5</td>\n",
       "      <td>1.290250</td>\n",
       "      <td>1.318260</td>\n",
       "      <td>0.889110</td>\n",
       "      <td>0.641690</td>\n",
       "      <td>0.413720</td>\n",
       "      <td>0.233510</td>\n",
       "      <td>7.406</td>\n",
       "      <td>6.99385</td>\n",
       "    </tr>\n",
       "  </tbody>\n",
       "</table>\n",
       "</div>"
      ],
      "text/plain": [
       "   id  Economy_GDP_per_Capita  Social_Support  Health_Life_Expectancy  \\\n",
       "0   1                0.964434        1.098471                0.338612   \n",
       "1   2                1.398000        1.471000                0.819000   \n",
       "2   3                0.319820        0.302850                0.303350   \n",
       "3   4                0.981240        1.232870                0.697020   \n",
       "4   5                1.290250        1.318260                0.889110   \n",
       "\n",
       "    Freedom  Corruption  Generosity  Happiness_Score  \\\n",
       "0  0.520304    0.093147    0.077134            4.574   \n",
       "1  0.547000    0.133000    0.291000            6.886   \n",
       "2  0.234140    0.097190    0.365100            3.575   \n",
       "3  0.490490    0.175210    0.145740            6.983   \n",
       "4  0.641690    0.413720    0.233510            7.406   \n",
       "\n",
       "   Predicted_Happiness_Score  \n",
       "0                    4.32305  \n",
       "1                    6.93342  \n",
       "2                    3.83327  \n",
       "3                    5.88701  \n",
       "4                    6.99385  "
      ]
     },
     "execution_count": 10,
     "metadata": {},
     "output_type": "execute_result"
    }
   ],
   "source": [
    "df.head()"
   ]
  },
  {
   "cell_type": "code",
   "execution_count": 12,
   "metadata": {},
   "outputs": [
    {
     "data": {
      "text/plain": [
       "Index(['id', 'Economy_GDP_per_Capita', 'Social_Support',\n",
       "       'Health_Life_Expectancy', 'Freedom', 'Corruption', 'Generosity',\n",
       "       'Happiness_Score', 'Predicted_Happiness_Score'],\n",
       "      dtype='object')"
      ]
     },
     "execution_count": 12,
     "metadata": {},
     "output_type": "execute_result"
    }
   ],
   "source": [
    "df.columns"
   ]
  },
  {
   "cell_type": "code",
   "execution_count": 13,
   "metadata": {},
   "outputs": [
    {
     "name": "stdout",
     "output_type": "stream",
     "text": [
      "Mean Squared Error (MSE): 0.18809647025796752\n",
      "Mean Absolute Error (MAE): 0.335856504402039\n",
      "R-squared (R²): 0.8549766227605845\n"
     ]
    }
   ],
   "source": [
    "mse = mean_squared_error(df['Happiness_Score'], df['Predicted_Happiness_Score'])\n",
    "mae = mean_absolute_error(df['Happiness_Score'], df['Predicted_Happiness_Score'])\n",
    "r2 = r2_score(df['Happiness_Score'], df['Predicted_Happiness_Score'])\n",
    "\n",
    "\n",
    "print(f\"Mean Squared Error (MSE): {mse}\")\n",
    "print(f\"Mean Absolute Error (MAE): {mae}\")\n",
    "print(f\"R-squared (R²): {r2}\")"
   ]
  }
 ],
 "metadata": {
  "kernelspec": {
   "display_name": "venv",
   "language": "python",
   "name": "python3"
  },
  "language_info": {
   "codemirror_mode": {
    "name": "ipython",
    "version": 3
   },
   "file_extension": ".py",
   "mimetype": "text/x-python",
   "name": "python",
   "nbconvert_exporter": "python",
   "pygments_lexer": "ipython3",
   "version": "3.12.3"
  }
 },
 "nbformat": 4,
 "nbformat_minor": 2
}
